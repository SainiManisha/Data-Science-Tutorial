{
  "nbformat": 4,
  "nbformat_minor": 0,
  "metadata": {
    "colab": {
      "name": "Deployment of Deep Learning and Machine Learning Model_FLASK_.ipynb",
      "provenance": [],
      "collapsed_sections": [],
      "authorship_tag": "ABX9TyPSBH572YJBRSfOC3g+1TWs",
      "include_colab_link": true
    },
    "kernelspec": {
      "name": "python3",
      "display_name": "Python 3"
    },
    "accelerator": "GPU"
  },
  "cells": [
    {
      "cell_type": "markdown",
      "metadata": {
        "id": "view-in-github",
        "colab_type": "text"
      },
      "source": [
        "<a href=\"https://colab.research.google.com/github/SainiManisha/Data-Science_Tutorial/blob/master/Deployment_of_Deep_Learning_and_Machine_Learning_Model_FLASK_.ipynb\" target=\"_parent\"><img src=\"https://colab.research.google.com/assets/colab-badge.svg\" alt=\"Open In Colab\"/></a>"
      ]
    },
    {
      "cell_type": "code",
      "metadata": {
        "id": "jMF8PIda2t3U"
      },
      "source": [
        "from google.colab import drive\n",
        "drive.mount('./drive')"
      ],
      "execution_count": null,
      "outputs": []
    },
    {
      "cell_type": "code",
      "metadata": {
        "id": "K-iguuzY3hpl"
      },
      "source": [
        "!pip install flask-ngrok"
      ],
      "execution_count": null,
      "outputs": []
    },
    {
      "cell_type": "code",
      "metadata": {
        "id": "WilAU7UCPJxP"
      },
      "source": [
        "from flask_ngrok import run_with_ngrok\n",
        "from flask import Flask, request\n",
        "\n",
        "import joblib\n",
        "import pandas as pd\n",
        "\n",
        "import base64"
      ],
      "execution_count": 1,
      "outputs": []
    },
    {
      "cell_type": "code",
      "metadata": {
        "id": "ea2_oVT7Txkf"
      },
      "source": [
        "app = Flask(__name__)\n",
        "# It will starts ngrok when the app is run\n",
        "run_with_ngrok(app)"
      ],
      "execution_count": 2,
      "outputs": []
    },
    {
      "cell_type": "code",
      "metadata": {
        "id": "PZn94ca1ULKf"
      },
      "source": [
        "@app.route('/',methods=['GET','POST'])\n",
        "def predict():\n",
        "    x = \"\"\"\n",
        "    <h1> Model Deployment </h1>\n",
        "    <ul>\n",
        "    <li> <a href='/ml'>ML prediction</a> </li>\n",
        "    <li> <a href='/dl'>DL Prediction</a> </li>\n",
        "    </ul>\n",
        "    \"\"\"\n",
        "    return x"
      ],
      "execution_count": 3,
      "outputs": []
    },
    {
      "cell_type": "markdown",
      "metadata": {
        "id": "zBG9jPB66p1L"
      },
      "source": [
        "# ML Model"
      ]
    },
    {
      "cell_type": "code",
      "metadata": {
        "id": "7Vjtc5PG8dew"
      },
      "source": [
        "@app.before_first_request\n",
        "def load_ml_model_to_app():\n",
        "    app.ml_model = joblib.load('./drive/My Drive/linear_regression_boston_model.pkl')\n",
        "\n",
        "@app.route('/ml')\n",
        "def ml():\n",
        "    x = \"\"\"\n",
        "    <!doctype html>\n",
        "    <title>ML Form</title>\n",
        "    <h1>Upload new File</h1>\n",
        "    <form method=post action='/ml/submit'>\n",
        "        <input name=CRIM placeholder='per capita crime rate by town'><br>\n",
        "        <input name=ZN placeholder='proportion of residential land zoned for lots over 25,000 sq.ft'><br>\n",
        "        <input name=INDUS placeholder='proportion of non-retail business acres per town'><br>\n",
        "        <input name=CHAS placeholder='Charles River dummy variable (= 1 if tract bounds river; 0 otherwise)'><br>\n",
        "        <input name=NOX placeholder='nitric oxides concentration (parts per 10 million)'><br>\n",
        "        <input name=RM placeholder='average number of rooms per dwelling'><br>\n",
        "        <input name=AGE placeholder='proportion of owner-occupied units built prior to 1940'><br>\n",
        "        <input name=DIS placeholder='weighted distances to five Boston employment centres'><br>\n",
        "        <input name=RAD placeholder='index of accessibility to radial highways'><br>\n",
        "        <input name=TAX placeholder='full-value property-tax rate per $10,000'><br>\n",
        "        <input name=PTRATIO placeholder='pupil-teacher ratio by town'><br>\n",
        "        <input name=B placeholder='1000(Bk - 0.63)^2 where Bk is the proportion of blacks by town'><br>\n",
        "        <input name=LSTAT placeholder='% lower status of the population'><br>\n",
        "        <input type=submit value=Predict>\n",
        "    </form>\n",
        "    \"\"\"\n",
        "    return x\n",
        "\n",
        "@app.route('/ml/submit', methods=['POST'])\n",
        "def ml_submit():\n",
        "    column_names = ['CRIM','ZN','INDUS','CHAS','NOX','RM','AGE','DIS','RAD','TAX','PTRATIO','B','LSTAT']\n",
        "    data = {}\n",
        "    for key in column_names:\n",
        "        data[key] = [float(request.form[key])]\n",
        "    print(data)\n",
        "\n",
        "    df = pd.DataFrame.from_dict(data)\n",
        "    price = app.ml_model.predict(df)\n",
        "    print(price)\n",
        "\n",
        "    return \"\"\"<!doctype html>\n",
        "    <title>BOSTON ML PREDICTION</title>\n",
        "    Predicted price of home is: \"\"\" + \"<b>\" + str(price[0]) + \"</b>\" + \\\n",
        "        \"\"\"<br><a href='/'>Go Back</a>\"\"\""
      ],
      "execution_count": 4,
      "outputs": []
    },
    {
      "cell_type": "markdown",
      "metadata": {
        "id": "IM4kXFLYAnis"
      },
      "source": [
        "# DL Model"
      ]
    },
    {
      "cell_type": "code",
      "metadata": {
        "id": "3mosaQNnH9e1"
      },
      "source": [
        "import tensorflow as tf\n",
        "from tensorflow.keras.applications.resnet50 import ResNet50, preprocess_input, decode_predictions"
      ],
      "execution_count": 5,
      "outputs": []
    },
    {
      "cell_type": "code",
      "metadata": {
        "id": "LXD299j6RaJJ"
      },
      "source": [
        "@app.before_first_request\n",
        "def load_dl_model_to_app():\n",
        "    app.dl_model = ResNet50(weights='imagenet')\n",
        "\n",
        "@app.route('/dl')\n",
        "def dl():\n",
        "    x = \"\"\"\n",
        "    <!doctype html>\n",
        "    <title>DL Form</title>\n",
        "    <h1>Upload new File</h1>\n",
        "    <form method=post action='/dl/submit' enctype='multipart/form-data'>\n",
        "        <input name=image type=file placeholder='image'><br>\n",
        "        <input type=submit value=Predict>\n",
        "    </form>\n",
        "    \"\"\"\n",
        "    return x\n",
        "\n",
        "@app.route('/dl/submit',methods=['POST'])\n",
        "def dl_submit():\n",
        "\timg = request.files['image']\n",
        "\timg.save('./myimage')\n",
        " \n",
        "\timage = tf.image.decode_image(\n",
        "\t\ttf.io.read_file('./myimage'))\n",
        "\timage = tf.image.resize(image, [224, 224])\n",
        "\tpre_image = preprocess_input(image)\n",
        "\t# make as 4D\n",
        "\tpre_image = pre_image[None, ...]\n",
        "\n",
        "\tb = tf.image.decode_image(tf.io.read_file(\"./myimage\"))\n",
        "\tjpeg = tf.image.encode_jpeg(b)\n",
        "\tb = base64.b64encode(jpeg.numpy()).decode('utf-8')\n",
        "\n",
        "\tprobas = app.dl_model.predict(pre_image)\n",
        "\tx = decode_predictions(probas, top=5)\n",
        "\tprint(x)\n",
        " \n",
        "\tx = [(i[1], i[2] * 100)for i in x[0]]\n",
        "\n",
        "\treturn f\"\"\"<!doctype html>\n",
        "\t<title>ResNet50 Image Prediction</title>\n",
        "\tPredicted class image is (with probability): <b>{x}</b> <br>\n",
        "\t<img src='data:image/jpeg;base64,{b}'>\n",
        "\t\"\"\" + \"\"\"<br><a href='/'>Go Back</a>\"\"\""
      ],
      "execution_count": 6,
      "outputs": []
    },
    {
      "cell_type": "markdown",
      "metadata": {
        "id": "ZlyoY6R5DZph"
      },
      "source": [
        "# Run Web Server"
      ]
    },
    {
      "cell_type": "code",
      "metadata": {
        "id": "xVaku126QrvF",
        "outputId": "c57c84ea-5edd-422e-cecb-f7cbd2a7222c",
        "colab": {
          "base_uri": "https://localhost:8080/",
          "height": 343
        }
      },
      "source": [
        "if __name__ == '__main__':\n",
        "    app.run()"
      ],
      "execution_count": 7,
      "outputs": [
        {
          "output_type": "stream",
          "text": [
            " * Serving Flask app \"__main__\" (lazy loading)\n",
            " * Environment: production\n",
            "\u001b[31m   WARNING: This is a development server. Do not use it in a production deployment.\u001b[0m\n",
            "\u001b[2m   Use a production WSGI server instead.\u001b[0m\n",
            " * Debug mode: off\n"
          ],
          "name": "stdout"
        },
        {
          "output_type": "stream",
          "text": [
            " * Running on http://127.0.0.1:5000/ (Press CTRL+C to quit)\n"
          ],
          "name": "stderr"
        },
        {
          "output_type": "stream",
          "text": [
            " * Running on http://9fedcaee3200.ngrok.io\n",
            " * Traffic stats available on http://127.0.0.1:4040\n"
          ],
          "name": "stdout"
        },
        {
          "output_type": "stream",
          "text": [
            "127.0.0.1 - - [23/Oct/2020 21:46:53] \"\u001b[37mGET / HTTP/1.1\u001b[0m\" 200 -\n",
            "127.0.0.1 - - [23/Oct/2020 21:46:54] \"\u001b[33mGET /favicon.ico HTTP/1.1\u001b[0m\" 404 -\n",
            "127.0.0.1 - - [23/Oct/2020 21:46:55] \"\u001b[37mGET /ml HTTP/1.1\u001b[0m\" 200 -\n",
            "127.0.0.1 - - [23/Oct/2020 21:46:58] \"\u001b[37mGET /dl HTTP/1.1\u001b[0m\" 200 -\n"
          ],
          "name": "stderr"
        },
        {
          "output_type": "stream",
          "text": [
            "WARNING:tensorflow:Model was constructed with shape (None, 224, 224, 3) for input Tensor(\"input_1:0\", shape=(None, 224, 224, 3), dtype=float32), but it was called on an input with incompatible shape (None, 299, 299, 3).\n"
          ],
          "name": "stdout"
        },
        {
          "output_type": "stream",
          "text": [
            "127.0.0.1 - - [23/Oct/2020 21:47:10] \"\u001b[37mPOST /dl/submit HTTP/1.1\u001b[0m\" 200 -\n"
          ],
          "name": "stderr"
        },
        {
          "output_type": "stream",
          "text": [
            "[[('n02093428', 'American_Staffordshire_terrier', 0.5986699), ('n02093256', 'Staffordshire_bullterrier', 0.3057205), ('n02087394', 'Rhodesian_ridgeback', 0.01259152), ('n02100583', 'vizsla', 0.011867594), ('n02108089', 'boxer', 0.007724751)]]\n"
          ],
          "name": "stdout"
        },
        {
          "output_type": "stream",
          "text": [
            "127.0.0.1 - - [23/Oct/2020 21:49:22] \"\u001b[37mPOST /dl/submit HTTP/1.1\u001b[0m\" 200 -\n"
          ],
          "name": "stderr"
        },
        {
          "output_type": "stream",
          "text": [
            "[[('n04522168', 'vase', 0.22199424), ('n04476259', 'tray', 0.054047767), ('n03938244', 'pillow', 0.05387108), ('n03485794', 'handkerchief', 0.030729977), ('n02776631', 'bakery', 0.029545631)]]\n"
          ],
          "name": "stdout"
        },
        {
          "output_type": "stream",
          "text": [
            "127.0.0.1 - - [23/Oct/2020 21:49:54] \"\u001b[37mGET / HTTP/1.1\u001b[0m\" 200 -\n"
          ],
          "name": "stderr"
        }
      ]
    },
    {
      "cell_type": "code",
      "metadata": {
        "id": "hC_UYzxrbae4"
      },
      "source": [
        ""
      ],
      "execution_count": null,
      "outputs": []
    }
  ]
}